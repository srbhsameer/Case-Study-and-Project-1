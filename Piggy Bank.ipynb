{
 "cells": [
  {
   "cell_type": "markdown",
   "metadata": {},
   "source": [
    "# Piggy Bank Software"
   ]
  },
  {
   "cell_type": "code",
   "execution_count": 1,
   "metadata": {},
   "outputs": [],
   "source": [
    "class piggy():\n",
    "    balance=0\n",
    "    def __init__(self):\n",
    "        print(\"---------------Start---------------\")\n",
    "        self.takeUserInput()\n",
    "\n",
    " #Method to take user action\n",
    "    def takeUserInput(self):\n",
    "        option=input(\"Start or End :\")\n",
    "        if option.lower()=='start':\n",
    "            option2=input(\"Add , Withdraw or check :\")\n",
    "            if option2.lower()=='add':\n",
    "                _add=float(input(\"Add Amount :\"))\n",
    "                self.addFunds(_add)\n",
    "            elif option2.lower()=='withdraw':\n",
    "                _withdraw=float(input(\"Withdraw Amount :\"))\n",
    "                self.withDrawFunds(_withdraw)\n",
    "            elif option2.lower()=='check':\n",
    "                    self.checkFunds()\n",
    "            else:\n",
    "                self.takeUserInput()\n",
    "        elif option.lower()=='end':\n",
    "            print(\"ending piggybank\")\n",
    "        else:\n",
    "            self.takeUserInput()\n",
    "\n",
    " #Method to add fund,Takes amount to add\n",
    "    def addFunds(self,amount_to_add):\n",
    "        self.balance=self.balance+amount_to_add\n",
    "        print(\"After adding,your updated balance is {} rupees\".format(self.balance))\n",
    "        self.takeUserInput()\n",
    " #Method to Take fund,Takes amount to withdraw\n",
    "    def withDrawFunds(self,amount_to_withdraw):\n",
    "        if(self.balance<amount_to_withdraw):\n",
    "            print(\"InSufficient Balance to withdraw\")\n",
    "        else:\n",
    "            self.balance=self.balance-amount_to_withdraw\n",
    "            print(\"After Withdrawing,balance amount is {} rupees\".format(self.balance))\n",
    "            self.takeUserInput()\n",
    " #Method to check fund\n",
    "    def checkFunds(self):\n",
    "        print(\"Your current balance is {} rupees\".format(self.balance))\n",
    "        self.takeUserInput()"
   ]
  },
  {
   "cell_type": "code",
   "execution_count": 2,
   "metadata": {},
   "outputs": [
    {
     "name": "stdout",
     "output_type": "stream",
     "text": [
      "---------------Start---------------\n",
      "Start or End :Start\n",
      "Add , Withdraw or check :Add\n",
      "Add Amount :1000\n",
      "After adding,your updated balance is 1000.0 rupees\n",
      "Start or End :Start\n",
      "Add , Withdraw or check :Withdraw\n",
      "Withdraw Amount :300\n",
      "After Withdrawing,balance amount is 700.0 rupees\n",
      "Start or End :Start\n",
      "Add , Withdraw or check :Check\n",
      "Your current balance is 700.0 rupees\n",
      "Start or End :End\n",
      "ending piggybank\n"
     ]
    },
    {
     "data": {
      "text/plain": [
       "<__main__.piggy at 0x53e3be0>"
      ]
     },
     "execution_count": 2,
     "metadata": {},
     "output_type": "execute_result"
    }
   ],
   "source": [
    "piggy()"
   ]
  },
  {
   "cell_type": "code",
   "execution_count": null,
   "metadata": {},
   "outputs": [],
   "source": []
  },
  {
   "cell_type": "code",
   "execution_count": null,
   "metadata": {},
   "outputs": [],
   "source": []
  },
  {
   "cell_type": "code",
   "execution_count": null,
   "metadata": {},
   "outputs": [],
   "source": []
  },
  {
   "cell_type": "code",
   "execution_count": null,
   "metadata": {},
   "outputs": [],
   "source": []
  },
  {
   "cell_type": "code",
   "execution_count": null,
   "metadata": {},
   "outputs": [],
   "source": []
  },
  {
   "cell_type": "code",
   "execution_count": null,
   "metadata": {},
   "outputs": [],
   "source": []
  }
 ],
 "metadata": {
  "kernelspec": {
   "display_name": "Python 3",
   "language": "python",
   "name": "python3"
  },
  "language_info": {
   "codemirror_mode": {
    "name": "ipython",
    "version": 3
   },
   "file_extension": ".py",
   "mimetype": "text/x-python",
   "name": "python",
   "nbconvert_exporter": "python",
   "pygments_lexer": "ipython3",
   "version": "3.7.1"
  }
 },
 "nbformat": 4,
 "nbformat_minor": 2
}
